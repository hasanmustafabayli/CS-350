{
 "cells": [
  {
   "cell_type": "code",
   "execution_count": null,
   "id": "c742bfa1",
   "metadata": {},
   "outputs": [],
   "source": []
  },
  {
   "cell_type": "code",
   "execution_count": null,
   "id": "6cf23db7",
   "metadata": {},
   "outputs": [],
   "source": [
    "Exercise 1"
   ]
  },
  {
   "cell_type": "code",
   "execution_count": 5,
   "id": "2a40cdd5",
   "metadata": {},
   "outputs": [
    {
     "name": "stdout",
     "output_type": "stream",
     "text": [
      "Number of CPUs available: 12\n",
      "Value of w (worker threads): 10\n"
     ]
    }
   ],
   "source": [
    "import os\n",
    "\n",
    "def determine_cpus_and_w():\n",
    "    num_cpus = os.cpu_count()\n",
    "    w = num_cpus - 2\n",
    "\n",
    "    print(f\"Number of CPUs available: {num_cpus}\")\n",
    "    print(f\"Value of w (worker threads): {w}\")\n",
    "\n",
    "determine_cpus_and_w()\n"
   ]
  },
  {
   "cell_type": "code",
   "execution_count": null,
   "id": "1b992729",
   "metadata": {},
   "outputs": [],
   "source": []
  },
  {
   "cell_type": "code",
   "execution_count": null,
   "id": "45d2e0b7",
   "metadata": {},
   "outputs": [],
   "source": [
    "Exercise 2"
   ]
  },
  {
   "cell_type": "code",
   "execution_count": 7,
   "id": "3a01b1d4",
   "metadata": {},
   "outputs": [],
   "source": [
    "def compute_thread_utilization(filename):\n",
    "    with open(filename, 'r') as f:\n",
    "        lines = f.readlines()\n",
    "\n",
    "    # Assuming each line follows the format \"T<thread_id> R<request_id>:<timing details>\"\n",
    "    thread_data = {}  # Store data for each thread\n",
    "\n",
    "    for line in lines:\n",
    "        if line.startswith(\"T\"):  # Check if line contains thread info\n",
    "            parts = line.split()\n",
    "            thread_id = parts[0].split('T')[1]  # Extract thread ID\n",
    "            timing = parts[1].split(':')[-1]  # Extract timing info (for simplicity, just taking the last timing detail)\n",
    "            \n",
    "            # Store data\n",
    "            if thread_id not in thread_data:\n",
    "                thread_data[thread_id] = []\n",
    "            thread_data[thread_id].append(float(timing))\n",
    "\n",
    "    # Compute average utilization for each thread\n",
    "    for thread_id, timings in thread_data.items():\n",
    "        avg_utilization = sum(timings) / len(timings)\n",
    "        print(f\"Average Utilization for Thread {thread_id}: {avg_utilization:.2f}\")\n",
    "\n",
    "compute_thread_utilization(\"output.txt\")\n"
   ]
  },
  {
   "cell_type": "code",
   "execution_count": null,
   "id": "a799bd80",
   "metadata": {},
   "outputs": [],
   "source": []
  }
 ],
 "metadata": {
  "kernelspec": {
   "display_name": "Python 3 (ipykernel)",
   "language": "python",
   "name": "python3"
  },
  "language_info": {
   "codemirror_mode": {
    "name": "ipython",
    "version": 3
   },
   "file_extension": ".py",
   "mimetype": "text/x-python",
   "name": "python",
   "nbconvert_exporter": "python",
   "pygments_lexer": "ipython3",
   "version": "3.11.4"
  }
 },
 "nbformat": 4,
 "nbformat_minor": 5
}
