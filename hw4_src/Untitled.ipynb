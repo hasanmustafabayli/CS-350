{
 "cells": [
  {
   "cell_type": "code",
   "execution_count": null,
   "id": "f7d812f2",
   "metadata": {},
   "outputs": [],
   "source": [
    "Exercise 1a)"
   ]
  },
  {
   "cell_type": "code",
   "execution_count": null,
   "id": "7f0bbad7",
   "metadata": {},
   "outputs": [],
   "source": []
  },
  {
   "cell_type": "code",
   "execution_count": null,
   "id": "26e40732",
   "metadata": {},
   "outputs": [],
   "source": [
    "1b)"
   ]
  },
  {
   "cell_type": "code",
   "execution_count": null,
   "id": "db36eac6",
   "metadata": {},
   "outputs": [],
   "source": [
    "def compute_thread_utilization(filename):\n",
    "    with open(filename, 'r') as f:\n",
    "        lines = f.readlines()\n",
    "\n",
    "    # Assuming each line follows the format \"T<thread_id> R<request_id>:<timing details>\"\n",
    "    thread_data = {}  # Store data for each thread\n",
    "\n",
    "    for line in lines:\n",
    "        if line.startswith(\"T\"):  # Check if line contains thread info\n",
    "            parts = line.split()\n",
    "            thread_id = parts[0].split('T')[1]  # Extract thread ID\n",
    "            timing = parts[1].split(':')[-1]  # Extract timing info (for simplicity, just taking the last timing detail)\n",
    "            \n",
    "            # Store data\n",
    "            if thread_id not in thread_data:\n",
    "                thread_data[thread_id] = []\n",
    "            thread_data[thread_id].append(float(timing))\n",
    "\n",
    "    # Compute average utilization for each thread\n",
    "    for thread_id, timings in thread_data.items():\n",
    "        avg_utilization = sum(timings) / len(timings)\n",
    "        print(f\"Average Utilization for Thread {thread_id}: {avg_utilization:.2f}\")\n",
    "\n",
    "compute_thread_utilization(\"output.txt\")\n"
   ]
  }
 ],
 "metadata": {
  "kernelspec": {
   "display_name": "Python 3 (ipykernel)",
   "language": "python",
   "name": "python3"
  },
  "language_info": {
   "codemirror_mode": {
    "name": "ipython",
    "version": 3
   },
   "file_extension": ".py",
   "mimetype": "text/x-python",
   "name": "python",
   "nbconvert_exporter": "python",
   "pygments_lexer": "ipython3",
   "version": "3.11.4"
  }
 },
 "nbformat": 4,
 "nbformat_minor": 5
}
